{
 "cells": [
  {
   "cell_type": "markdown",
   "metadata": {},
   "source": [
    "# Studio Tuesday: The fat cats of Brooklyn "
   ]
  },
  {
   "cell_type": "code",
   "execution_count": null,
   "metadata": {
    "collapsed": true
   },
   "outputs": [],
   "source": [
    "#files from inspection: https://www.muckrock.com/foi/new-york-16/bodega-cat-complaints-29199/#file-110233\n",
    "#page from: Consumer Complaints to the Food Safety and Inspection division made from Jan. 1, 2015, to Oct. 26, 2016, that contain the words \"cat\" or \"cats.\""
   ]
  },
  {
   "cell_type": "raw",
   "metadata": {},
   "source": [
    "Brooklyn has a cat problem. In only 10 months, there were over 1500 consumer complaints made to the Food Safety and Inspection division that contain the words \"cat\" or \"cats.\" In those cases, cats were seen in food shops, delis and restaurants making their business or just straying around. Most of the times cats were seen in the basement or the mainfloor of the buildings. Interestingly, in around 150 cases, even dogs AND cats were in the food location. "
   ]
  },
  {
   "cell_type": "code",
   "execution_count": null,
   "metadata": {
    "collapsed": true
   },
   "outputs": [],
   "source": [
    "import pandas as pd\n",
    "import geopandas as gpd\n",
    "pd.set_option('max_columns', 50)\n",
    "from shapely.geometry import Point\n",
    "%matplotlib inline"
   ]
  },
  {
   "cell_type": "code",
   "execution_count": 55,
   "metadata": {},
   "outputs": [
    {
     "data": {
      "text/html": [
       "<div>\n",
       "<style>\n",
       "    .dataframe thead tr:only-child th {\n",
       "        text-align: right;\n",
       "    }\n",
       "\n",
       "    .dataframe thead th {\n",
       "        text-align: left;\n",
       "    }\n",
       "\n",
       "    .dataframe tbody tr th {\n",
       "        vertical-align: top;\n",
       "    }\n",
       "</style>\n",
       "<table border=\"1\" class=\"dataframe\">\n",
       "  <thead>\n",
       "    <tr style=\"text-align: right;\">\n",
       "      <th></th>\n",
       "      <th>ESTABNO</th>\n",
       "      <th>INSPDATE</th>\n",
       "      <th>DEFNO</th>\n",
       "      <th>DEFTEXT</th>\n",
       "      <th>OWNNAME</th>\n",
       "      <th>TRADENAME</th>\n",
       "      <th>STREET</th>\n",
       "      <th>CITY</th>\n",
       "      <th>ZIP</th>\n",
       "      <th>complete</th>\n",
       "      <th>Latitude</th>\n",
       "      <th>Longitude</th>\n",
       "      <th>Accuracy Score</th>\n",
       "      <th>Accuracy Type</th>\n",
       "      <th>Number</th>\n",
       "      <th>Street</th>\n",
       "      <th>City</th>\n",
       "      <th>State</th>\n",
       "      <th>County</th>\n",
       "      <th>Zip</th>\n",
       "      <th>Country</th>\n",
       "    </tr>\n",
       "  </thead>\n",
       "  <tbody>\n",
       "    <tr>\n",
       "      <th>0</th>\n",
       "      <td>629392</td>\n",
       "      <td>2015-01-12</td>\n",
       "      <td>14C</td>\n",
       "      <td>&lt;div&gt;- A &amp;nbsp;cat is noted in the deli area.&lt;...</td>\n",
       "      <td>2082 MADISON FOOD CORP</td>\n",
       "      <td>2082 MADISON FOOD</td>\n",
       "      <td>2082 MADISON AVE</td>\n",
       "      <td>NEW YORK</td>\n",
       "      <td>10037</td>\n",
       "      <td>2082 MADISON AVE, NEW YORK</td>\n",
       "      <td>40.809686</td>\n",
       "      <td>-73.937947</td>\n",
       "      <td>1.0</td>\n",
       "      <td>rooftop</td>\n",
       "      <td>2082</td>\n",
       "      <td>Madison Ave</td>\n",
       "      <td>New York</td>\n",
       "      <td>NY</td>\n",
       "      <td>New York County</td>\n",
       "      <td>10037</td>\n",
       "      <td>US</td>\n",
       "    </tr>\n",
       "    <tr>\n",
       "      <th>1</th>\n",
       "      <td>11025</td>\n",
       "      <td>2015-01-09</td>\n",
       "      <td>14C</td>\n",
       "      <td>&lt;div&gt;- A cat food container is noted in the re...</td>\n",
       "      <td>FAREH ABDULHALEEM</td>\n",
       "      <td>BOULEVARD GROCERY</td>\n",
       "      <td>139 HENRY JOHNSON BLVD</td>\n",
       "      <td>ALBANY</td>\n",
       "      <td>12210</td>\n",
       "      <td>139 HENRY JOHNSON BLVD, ALBANY</td>\n",
       "      <td>42.659493</td>\n",
       "      <td>-73.763336</td>\n",
       "      <td>0.8</td>\n",
       "      <td>street_center</td>\n",
       "      <td>NaN</td>\n",
       "      <td>Henry Johnson Blvd</td>\n",
       "      <td>Albany</td>\n",
       "      <td>NY</td>\n",
       "      <td>Albany County</td>\n",
       "      <td>12210</td>\n",
       "      <td>US</td>\n",
       "    </tr>\n",
       "  </tbody>\n",
       "</table>\n",
       "</div>"
      ],
      "text/plain": [
       "   ESTABNO    INSPDATE DEFNO  \\\n",
       "0   629392  2015-01-12   14C   \n",
       "1    11025  2015-01-09   14C   \n",
       "\n",
       "                                             DEFTEXT                 OWNNAME  \\\n",
       "0  <div>- A &nbsp;cat is noted in the deli area.<...  2082 MADISON FOOD CORP   \n",
       "1  <div>- A cat food container is noted in the re...       FAREH ABDULHALEEM   \n",
       "\n",
       "           TRADENAME                  STREET      CITY    ZIP  \\\n",
       "0  2082 MADISON FOOD        2082 MADISON AVE  NEW YORK  10037   \n",
       "1  BOULEVARD GROCERY  139 HENRY JOHNSON BLVD    ALBANY  12210   \n",
       "\n",
       "                         complete   Latitude  Longitude  Accuracy Score  \\\n",
       "0      2082 MADISON AVE, NEW YORK  40.809686 -73.937947             1.0   \n",
       "1  139 HENRY JOHNSON BLVD, ALBANY  42.659493 -73.763336             0.8   \n",
       "\n",
       "   Accuracy Type Number              Street      City State           County  \\\n",
       "0        rooftop   2082         Madison Ave  New York    NY  New York County   \n",
       "1  street_center    NaN  Henry Johnson Blvd    Albany    NY    Albany County   \n",
       "\n",
       "     Zip Country  \n",
       "0  10037      US  \n",
       "1  12210      US  "
      ]
     },
     "execution_count": 55,
     "metadata": {},
     "output_type": "execute_result"
    }
   ],
   "source": [
    "df_all_cats = pd.read_csv('cats_geocodio.csv')\n",
    "df_all_cats.head(2)"
   ]
  },
  {
   "cell_type": "code",
   "execution_count": 57,
   "metadata": {},
   "outputs": [
    {
     "data": {
      "text/plain": [
       "Index(['ESTABNO', 'INSPDATE', 'DEFNO', 'DEFTEXT', 'OWNNAME', 'TRADENAME',\n",
       "       'STREET', 'CITY', 'ZIP', 'complete', 'Latitude', 'Longitude',\n",
       "       'Accuracy Score', 'Accuracy Type', 'Number', 'Street', 'City', 'State',\n",
       "       'County', 'Zip', 'Country'],\n",
       "      dtype='object')"
      ]
     },
     "execution_count": 57,
     "metadata": {},
     "output_type": "execute_result"
    }
   ],
   "source": [
    "df_all_cats.columns"
   ]
  },
  {
   "cell_type": "code",
   "execution_count": 59,
   "metadata": {},
   "outputs": [
    {
     "data": {
      "text/html": [
       "<div>\n",
       "<style>\n",
       "    .dataframe thead tr:only-child th {\n",
       "        text-align: right;\n",
       "    }\n",
       "\n",
       "    .dataframe thead th {\n",
       "        text-align: left;\n",
       "    }\n",
       "\n",
       "    .dataframe tbody tr th {\n",
       "        vertical-align: top;\n",
       "    }\n",
       "</style>\n",
       "<table border=\"1\" class=\"dataframe\">\n",
       "  <thead>\n",
       "    <tr style=\"text-align: right;\">\n",
       "      <th></th>\n",
       "      <th>ESTABNO</th>\n",
       "      <th>INSPDATE</th>\n",
       "      <th>DEFNO</th>\n",
       "      <th>DEFTEXT</th>\n",
       "      <th>OWNNAME</th>\n",
       "      <th>TRADENAME</th>\n",
       "      <th>STREET</th>\n",
       "      <th>CITY</th>\n",
       "      <th>ZIP</th>\n",
       "      <th>complete</th>\n",
       "      <th>Latitude</th>\n",
       "      <th>Longitude</th>\n",
       "      <th>Accuracy Score</th>\n",
       "      <th>Accuracy Type</th>\n",
       "      <th>Number</th>\n",
       "      <th>Street</th>\n",
       "      <th>City</th>\n",
       "      <th>State</th>\n",
       "      <th>County</th>\n",
       "      <th>Zip</th>\n",
       "      <th>Country</th>\n",
       "      <th>geometry</th>\n",
       "    </tr>\n",
       "  </thead>\n",
       "  <tbody>\n",
       "    <tr>\n",
       "      <th>0</th>\n",
       "      <td>629392</td>\n",
       "      <td>2015-01-12</td>\n",
       "      <td>14C</td>\n",
       "      <td>&lt;div&gt;- A &amp;nbsp;cat is noted in the deli area.&lt;...</td>\n",
       "      <td>2082 MADISON FOOD CORP</td>\n",
       "      <td>2082 MADISON FOOD</td>\n",
       "      <td>2082 MADISON AVE</td>\n",
       "      <td>NEW YORK</td>\n",
       "      <td>10037</td>\n",
       "      <td>2082 MADISON AVE, NEW YORK</td>\n",
       "      <td>40.809686</td>\n",
       "      <td>-73.937947</td>\n",
       "      <td>1.0</td>\n",
       "      <td>rooftop</td>\n",
       "      <td>2082</td>\n",
       "      <td>Madison Ave</td>\n",
       "      <td>New York</td>\n",
       "      <td>NY</td>\n",
       "      <td>New York County</td>\n",
       "      <td>10037</td>\n",
       "      <td>US</td>\n",
       "      <td>POINT (-73.93794699999999 40.809686)</td>\n",
       "    </tr>\n",
       "    <tr>\n",
       "      <th>1</th>\n",
       "      <td>11025</td>\n",
       "      <td>2015-01-09</td>\n",
       "      <td>14C</td>\n",
       "      <td>&lt;div&gt;- A cat food container is noted in the re...</td>\n",
       "      <td>FAREH ABDULHALEEM</td>\n",
       "      <td>BOULEVARD GROCERY</td>\n",
       "      <td>139 HENRY JOHNSON BLVD</td>\n",
       "      <td>ALBANY</td>\n",
       "      <td>12210</td>\n",
       "      <td>139 HENRY JOHNSON BLVD, ALBANY</td>\n",
       "      <td>42.659493</td>\n",
       "      <td>-73.763336</td>\n",
       "      <td>0.8</td>\n",
       "      <td>street_center</td>\n",
       "      <td>NaN</td>\n",
       "      <td>Henry Johnson Blvd</td>\n",
       "      <td>Albany</td>\n",
       "      <td>NY</td>\n",
       "      <td>Albany County</td>\n",
       "      <td>12210</td>\n",
       "      <td>US</td>\n",
       "      <td>POINT (-73.763336 42.659493)</td>\n",
       "    </tr>\n",
       "  </tbody>\n",
       "</table>\n",
       "</div>"
      ],
      "text/plain": [
       "   ESTABNO    INSPDATE DEFNO  \\\n",
       "0   629392  2015-01-12   14C   \n",
       "1    11025  2015-01-09   14C   \n",
       "\n",
       "                                             DEFTEXT                 OWNNAME  \\\n",
       "0  <div>- A &nbsp;cat is noted in the deli area.<...  2082 MADISON FOOD CORP   \n",
       "1  <div>- A cat food container is noted in the re...       FAREH ABDULHALEEM   \n",
       "\n",
       "           TRADENAME                  STREET      CITY    ZIP  \\\n",
       "0  2082 MADISON FOOD        2082 MADISON AVE  NEW YORK  10037   \n",
       "1  BOULEVARD GROCERY  139 HENRY JOHNSON BLVD    ALBANY  12210   \n",
       "\n",
       "                         complete   Latitude  Longitude  Accuracy Score  \\\n",
       "0      2082 MADISON AVE, NEW YORK  40.809686 -73.937947             1.0   \n",
       "1  139 HENRY JOHNSON BLVD, ALBANY  42.659493 -73.763336             0.8   \n",
       "\n",
       "   Accuracy Type Number              Street      City State           County  \\\n",
       "0        rooftop   2082         Madison Ave  New York    NY  New York County   \n",
       "1  street_center    NaN  Henry Johnson Blvd    Albany    NY    Albany County   \n",
       "\n",
       "     Zip Country                              geometry  \n",
       "0  10037      US  POINT (-73.93794699999999 40.809686)  \n",
       "1  12210      US          POINT (-73.763336 42.659493)  "
      ]
     },
     "execution_count": 59,
     "metadata": {},
     "output_type": "execute_result"
    }
   ],
   "source": [
    "df_all_cats['geometry'] = df_all_cats.apply(lambda row: Point(row['Longitude'], row['Latitude']), axis=1)\n",
    "df_all_cats.head(2)"
   ]
  },
  {
   "cell_type": "code",
   "execution_count": 60,
   "metadata": {},
   "outputs": [
    {
     "data": {
      "text/plain": [
       "<matplotlib.axes._subplots.AxesSubplot at 0x114d6bc50>"
      ]
     },
     "execution_count": 60,
     "metadata": {},
     "output_type": "execute_result"
    },
    {
     "data": {
      "image/png": "[encoded data removed]",
      "text/plain": [
       "<matplotlib.figure.Figure at 0x114d5c630>"
      ]
     },
     "metadata": {},
     "output_type": "display_data"
    }
   ],
   "source": [
    "df_all_cats.plot(column='ZIP')"
   ]
  },
  {
   "cell_type": "code",
   "execution_count": 61,
   "metadata": {},
   "outputs": [
    {
     "data": {
      "text/html": [
       "<div>\n",
       "<style>\n",
       "    .dataframe thead tr:only-child th {\n",
       "        text-align: right;\n",
       "    }\n",
       "\n",
       "    .dataframe thead th {\n",
       "        text-align: left;\n",
       "    }\n",
       "\n",
       "    .dataframe tbody tr th {\n",
       "        vertical-align: top;\n",
       "    }\n",
       "</style>\n",
       "<table border=\"1\" class=\"dataframe\">\n",
       "  <thead>\n",
       "    <tr style=\"text-align: right;\">\n",
       "      <th></th>\n",
       "      <th>INSPDATE</th>\n",
       "      <th>DEFTEXT</th>\n",
       "      <th>TRADENAME</th>\n",
       "      <th>STREET</th>\n",
       "      <th>CITY</th>\n",
       "      <th>ZIP</th>\n",
       "      <th>geometry</th>\n",
       "    </tr>\n",
       "  </thead>\n",
       "  <tbody>\n",
       "    <tr>\n",
       "      <th>0</th>\n",
       "      <td>2015-01-12</td>\n",
       "      <td>&lt;div&gt;- A &amp;nbsp;cat is noted in the deli area.&lt;...</td>\n",
       "      <td>2082 MADISON FOOD</td>\n",
       "      <td>2082 MADISON AVE</td>\n",
       "      <td>NEW YORK</td>\n",
       "      <td>10037</td>\n",
       "      <td>POINT (-73.93794699999999 40.809686)</td>\n",
       "    </tr>\n",
       "    <tr>\n",
       "      <th>1</th>\n",
       "      <td>2015-01-09</td>\n",
       "      <td>&lt;div&gt;- A cat food container is noted in the re...</td>\n",
       "      <td>BOULEVARD GROCERY</td>\n",
       "      <td>139 HENRY JOHNSON BLVD</td>\n",
       "      <td>ALBANY</td>\n",
       "      <td>12210</td>\n",
       "      <td>POINT (-73.763336 42.659493)</td>\n",
       "    </tr>\n",
       "  </tbody>\n",
       "</table>\n",
       "</div>"
      ],
      "text/plain": [
       "     INSPDATE                                            DEFTEXT  \\\n",
       "0  2015-01-12  <div>- A &nbsp;cat is noted in the deli area.<...   \n",
       "1  2015-01-09  <div>- A cat food container is noted in the re...   \n",
       "\n",
       "           TRADENAME                  STREET      CITY    ZIP  \\\n",
       "0  2082 MADISON FOOD        2082 MADISON AVE  NEW YORK  10037   \n",
       "1  BOULEVARD GROCERY  139 HENRY JOHNSON BLVD    ALBANY  12210   \n",
       "\n",
       "                               geometry  \n",
       "0  POINT (-73.93794699999999 40.809686)  \n",
       "1          POINT (-73.763336 42.659493)  "
      ]
     },
     "execution_count": 61,
     "metadata": {},
     "output_type": "execute_result"
    }
   ],
   "source": [
    "geometry = df_all_cats[['INSPDATE', 'DEFTEXT', 'TRADENAME', 'STREET', 'CITY', 'ZIP', 'geometry']]\n",
    "geometry.head(2)"
   ]
  },
  {
   "cell_type": "code",
   "execution_count": 30,
   "metadata": {},
   "outputs": [],
   "source": [
    "geometry.to_file('Cats_in_NYC.json', driver='GeoJSON')"
   ]
  },
  {
   "cell_type": "code",
   "execution_count": 42,
   "metadata": {},
   "outputs": [
    {
     "data": {
      "text/plain": [
       "geopandas.geodataframe.GeoDataFrame"
      ]
     },
     "execution_count": 42,
     "metadata": {},
     "output_type": "execute_result"
    }
   ],
   "source": [
    "type(geometry)"
   ]
  },
  {
   "cell_type": "code",
   "execution_count": 64,
   "metadata": {
    "collapsed": true
   },
   "outputs": [],
   "source": [
    "df_cats = pd.read_csv('cats_NYC.csv')"
   ]
  },
  {
   "cell_type": "code",
   "execution_count": 65,
   "metadata": {},
   "outputs": [
    {
     "data": {
      "text/plain": [
       "BROOKLYN     1580\n",
       "BRONX         956\n",
       "NEW YORK      438\n",
       "JAMAICA        74\n",
       "RIDGEWOOD      49\n",
       "Name: CITY, dtype: int64"
      ]
     },
     "execution_count": 65,
     "metadata": {},
     "output_type": "execute_result"
    }
   ],
   "source": [
    "df_cats['CITY'].value_counts().head()"
   ]
  },
  {
   "cell_type": "code",
   "execution_count": 66,
   "metadata": {},
   "outputs": [
    {
     "data": {
      "text/plain": [
       "False    2618\n",
       "True     1070\n",
       "Name: DEFTEXT, dtype: int64"
      ]
     },
     "execution_count": 66,
     "metadata": {},
     "output_type": "execute_result"
    }
   ],
   "source": [
    "df_cats['DEFTEXT'].str.contains('basement').value_counts()"
   ]
  },
  {
   "cell_type": "code",
   "execution_count": 67,
   "metadata": {},
   "outputs": [
    {
     "data": {
      "text/plain": [
       "False    3544\n",
       "True      144\n",
       "Name: DEFTEXT, dtype: int64"
      ]
     },
     "execution_count": 67,
     "metadata": {},
     "output_type": "execute_result"
    }
   ],
   "source": [
    "df_cats['DEFTEXT'].str.contains('dog').value_counts()"
   ]
  },
  {
   "cell_type": "code",
   "execution_count": 68,
   "metadata": {},
   "outputs": [
    {
     "data": {
      "text/plain": [
       "False    3615\n",
       "True       73\n",
       "Name: DEFTEXT, dtype: int64"
      ]
     },
     "execution_count": 68,
     "metadata": {},
     "output_type": "execute_result"
    }
   ],
   "source": [
    "df_cats['DEFTEXT'].str.contains('rat').value_counts()"
   ]
  },
  {
   "cell_type": "code",
   "execution_count": 69,
   "metadata": {},
   "outputs": [
    {
     "data": {
      "text/plain": [
       "LA PERA BROS LIVE PLTRY    11\n",
       "44TH HALAL LIVE POULTRY    10\n",
       "WATKINS HALAL               9\n",
       "EL BADIA LIVE POULTRY       8\n",
       "GRAHAM LIVE POULTRY         8\n",
       "J&R LIVE POULTRY            7\n",
       "NUCCIOS ITALIAN BAKERY      7\n",
       "GRAND DELI                  7\n",
       "ASSOCIATED                  7\n",
       "C TOWN SUPERMARKET          7\n",
       "Name: TRADENAME, dtype: int64"
      ]
     },
     "execution_count": 69,
     "metadata": {},
     "output_type": "execute_result"
    }
   ],
   "source": [
    "df_cats['TRADENAME'].value_counts().head(10)"
   ]
  },
  {
   "cell_type": "code",
   "execution_count": 70,
   "metadata": {},
   "outputs": [
    {
     "data": {
      "text/plain": [
       "<matplotlib.axes._subplots.AxesSubplot at 0x1190d4198>"
      ]
     },
     "execution_count": 70,
     "metadata": {},
     "output_type": "execute_result"
    },
    {
     "data": {
      "image/png": "[encoded data removed]",
      "text/plain": [
       "<matplotlib.figure.Figure at 0x1190d4d68>"
      ]
     },
     "metadata": {},
     "output_type": "display_data"
    }
   ],
   "source": [
    "df_cats['CITY'].value_counts().head().plot(kind='bar')"
   ]
  },
  {
   "cell_type": "code",
   "execution_count": 71,
   "metadata": {},
   "outputs": [
    {
     "data": {
      "text/plain": [
       "False    2427\n",
       "True     1253\n",
       "Name: TRADENAME, dtype: int64"
      ]
     },
     "execution_count": 71,
     "metadata": {},
     "output_type": "execute_result"
    }
   ],
   "source": [
    "df_cats['TRADENAME'].str.contains('DELI').value_counts()"
   ]
  },
  {
   "cell_type": "code",
   "execution_count": 72,
   "metadata": {},
   "outputs": [
    {
     "data": {
      "text/plain": [
       "False    3612\n",
       "True       68\n",
       "Name: TRADENAME, dtype: int64"
      ]
     },
     "execution_count": 72,
     "metadata": {},
     "output_type": "execute_result"
    }
   ],
   "source": [
    "df_cats['TRADENAME'].str.contains('POULTRY').value_counts()#.#head()"
   ]
  },
  {
   "cell_type": "code",
   "execution_count": 73,
   "metadata": {},
   "outputs": [
    {
     "data": {
      "text/plain": [
       "<matplotlib.axes._subplots.AxesSubplot at 0x1190f8908>"
      ]
     },
     "execution_count": 73,
     "metadata": {},
     "output_type": "execute_result"
    },
    {
     "data": {
      "image/png": "[encoded data removed]",
      "text/plain": [
       "<matplotlib.figure.Figure at 0x119101828>"
      ]
     },
     "metadata": {},
     "output_type": "display_data"
    }
   ],
   "source": [
    "df_cats[df_cats['CITY'] == 'BROOKLYN']['ZIP'].value_counts().head().plot(kind='barh')"
   ]
  }
 ],
 "metadata": {
  "kernelspec": {
   "display_name": "Python 3",
   "language": "python",
   "name": "python3"
  },
  "language_info": {
   "codemirror_mode": {
    "name": "ipython",
    "version": 3
   },
   "file_extension": ".py",
   "mimetype": "text/x-python",
   "name": "python",
   "nbconvert_exporter": "python",
   "pygments_lexer": "ipython3",
   "version": "3.6.1"
  }
 },
 "nbformat": 4,
 "nbformat_minor": 2
}
